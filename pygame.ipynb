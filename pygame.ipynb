{
 "cells": [
  {
   "cell_type": "code",
   "execution_count": 4,
   "metadata": {},
   "outputs": [],
   "source": [
    "# Imports\n",
    "import numpy as np\n",
    "import time\n",
    "from IPython.display import clear_output\n",
    "from config import *\n",
    "from enviroment import Enviroment"
   ]
  },
  {
   "cell_type": "code",
   "execution_count": 5,
   "metadata": {},
   "outputs": [
    {
     "ename": "NameError",
     "evalue": "name 'initial_states' is not defined",
     "output_type": "error",
     "traceback": [
      "\u001b[1;31m---------------------------------------------------------------------------\u001b[0m",
      "\u001b[1;31mNameError\u001b[0m                                 Traceback (most recent call last)",
      "\u001b[1;32m<ipython-input-5-86c4187277a4>\u001b[0m in \u001b[0;36m<module>\u001b[1;34m\u001b[0m\n\u001b[0;32m     36\u001b[0m \u001b[0mreplay_memory_len\u001b[0m \u001b[1;33m=\u001b[0m \u001b[0mREPLAY_MEMORY_LEN\u001b[0m\u001b[1;33m\u001b[0m\u001b[1;33m\u001b[0m\u001b[0m\n\u001b[0;32m     37\u001b[0m \u001b[0mtype\u001b[0m \u001b[1;33m=\u001b[0m \u001b[1;34m\"sticky\"\u001b[0m\u001b[1;33m\u001b[0m\u001b[1;33m\u001b[0m\u001b[0m\n\u001b[1;32m---> 38\u001b[1;33m \u001b[0menv\u001b[0m \u001b[1;33m=\u001b[0m \u001b[0mEnviroment\u001b[0m\u001b[1;33m(\u001b[0m\u001b[0minitial_states\u001b[0m \u001b[1;33m=\u001b[0m \u001b[0minitial_states\u001b[0m\u001b[1;33m,\u001b[0m \u001b[0menemy_states\u001b[0m \u001b[1;33m=\u001b[0m \u001b[0menemy_states\u001b[0m\u001b[1;33m,\u001b[0m \u001b[0mtype\u001b[0m \u001b[1;33m=\u001b[0m \u001b[0mtype\u001b[0m\u001b[1;33m)\u001b[0m\u001b[1;33m\u001b[0m\u001b[1;33m\u001b[0m\u001b[0m\n\u001b[0m\u001b[0;32m     39\u001b[0m \u001b[0menv\u001b[0m\u001b[1;33m.\u001b[0m\u001b[0mrender\u001b[0m\u001b[1;33m(\u001b[0m\u001b[1;33m)\u001b[0m\u001b[1;33m\u001b[0m\u001b[1;33m\u001b[0m\u001b[0m\n",
      "\u001b[1;31mNameError\u001b[0m: name 'initial_states' is not defined"
     ]
    }
   ],
   "source": [
    "import pygame, sys\n",
    "\n",
    "SCREEN_WIDTH = 480\n",
    "SCREEN_HEIGHT = 480\n",
    "\n",
    "NUM_BLOCKS_WIDE = 4\n",
    "NUM_BLOCKS_HIGH = 4\n",
    "BLOCK_HEIGHT = round(SCREEN_HEIGHT/NUM_BLOCKS_HIGH)\n",
    "BLOCK_WIDTH = round(SCREEN_WIDTH/NUM_BLOCKS_WIDE)\n",
    "\n",
    "BLACK = (0, 0, 0)\n",
    "START = (153, 184, 152) # color is white\n",
    "GOAL = (0,201,87) # color is green\n",
    "HOLE = (139,105,105) # color is brown\n",
    "FROZEN = (24,116,205) # color is blue\n",
    "PINK= (255,20,147) # color is pink\n",
    "\n",
    "TITLE = \"Multi-Agent\"\n",
    "\n",
    "grid_size = GRID_SIZE\n",
    "num_col = grid_size\n",
    "\n",
    "possibleActions = POSSIBLE_ACTIONS\n",
    "\n",
    "action_space_dict = {\n",
    "    \"U\" : 0,\n",
    "    \"D\" : 1,\n",
    "    \"L\" : 2,\n",
    "    \"R\" : 3,\n",
    "    \"S\" : 4\n",
    "}\n",
    "n_agents          = N_AGENTS\n",
    "allplayerpos      = PLAYER_POS[: n_agents]\n",
    "enemy_list_pos    = ENEMY_POS[: n_agents]\n",
    "batch_size        = BATCH_SIZE\n",
    "replay_memory_len = REPLAY_MEMORY_LEN\n",
    "type = \"sticky\"\n",
    "env = Enviroment(initial_states = initial_states, enemy_states = enemy_states, type = type)\n",
    "env.render()"
   ]
  },
  {
   "cell_type": "code",
   "execution_count": 6,
   "metadata": {},
   "outputs": [],
   "source": [
    "def get_tile_color(tile):\n",
    "    if tile == \"S\":\n",
    "        color = START\n",
    "    elif tile == \"G\":\n",
    "        color = GOAL\n",
    "    elif tile == \"H\":\n",
    "        color = HOLE\n",
    "    elif tile == \"F\":\n",
    "        color = FROZEN\n",
    "    else:\n",
    "        color = PINK\n",
    "    return color"
   ]
  },
  {
   "cell_type": "code",
   "execution_count": 4,
   "metadata": {},
   "outputs": [],
   "source": [
    "def draw_map(surface, map_tiles):\n",
    "    for j, tile in enumerate(map_tiles):\n",
    "        for i, tile_contents in enumerate(tile):\n",
    "            myrect = pygame.Rect(i * BLOCK_WIDTH, j * BLOCK_HEIGHT, BLOCK_WIDTH, BLOCK_HEIGHT)\n",
    "            pygame.draw.rect(surface, get_tile_color(tile_contents), myrect)\n",
    "\n",
    "def draw_grid(surface):\n",
    "    for i in range(NUM_BLOCKS_WIDE):\n",
    "        new_height = round(i * BLOCK_HEIGHT)\n",
    "        new_width = round(i * BLOCK_WIDTH)\n",
    "        pygame.draw.line(surface, BLACK, (0, new_height), (SCREEN_WIDTH, new_height), 2)\n",
    "        pygame.draw.line(surface, BLACK, (new_width, 0), (new_width, SCREEN_HEIGHT), 2)"
   ]
  },
  {
   "cell_type": "code",
   "execution_count": 6,
   "metadata": {},
   "outputs": [],
   "source": [
    "def initialize_game():\n",
    "    pygame.init()\n",
    "    surface = pygame.display.set_mode((SCREEN_WIDTH, SCREEN_HEIGHT))\n",
    "    pygame.display.set_caption(TITLE)\n",
    "    surface.fill(BLACK)\n",
    "    return surface\n",
    "\n",
    "def read_map(state_pos):\n",
    "    \n",
    "    world_map = custom_map      \n",
    "    world_map = []\n",
    "    for row in custom_map:\n",
    "        world_map.append(list(row))\n",
    "        \n",
    "    world_map[state_pos[0]][state_pos[1]] = \"X\"\n",
    "    \n",
    "    new_map = []\n",
    "    for row in world_map:\n",
    "        string = \"\"\n",
    "        for ele in row:\n",
    "            string += ele\n",
    "        new_map.append(string)\n",
    "                \n",
    "    return new_map"
   ]
  },
  {
   "cell_type": "code",
   "execution_count": null,
   "metadata": {},
   "outputs": [],
   "source": [
    "def game_loop(surface):\n",
    "    \n",
    "    total_reward = 0\n",
    "    rounds = 5\n",
    "    num_eps = 100\n",
    "\n",
    "    for i in range(1, rounds + 1):\n",
    "\n",
    "        for _ in range(1, num_eps + 1):\n",
    "\n",
    "            state = env.reset()\n",
    "            done = False\n",
    "            while not done:\n",
    "\n",
    "                for event in pygame.event.get():\n",
    "                    if event.type == pygame.QUIT:\n",
    "                        pygame.quit()\n",
    "                        sys.exit()\n",
    "                    if event.type == pygame.KEYDOWN:\n",
    "                        if event.key == pygame.K_ESCAPE:\n",
    "                            pygame.quit()\n",
    "                            sys.exit()\n",
    "                action = np.argmax(loaded_table[state, :])\n",
    "                new_state, reward, done, _ = env.step(action)\n",
    "                state = new_state\n",
    "                total_reward += reward\n",
    "\n",
    "                print(\"Round\", i)\n",
    "                print(\"s:\", state, \"a:\", action)\n",
    "                env.render()\n",
    "                time.sleep(0.05)\n",
    "                clear_output(wait=True)\n",
    "\n",
    "                draw_map(surface, read_map(return_coordinates(state)))\n",
    "                draw_grid(surface)\n",
    "                pygame.display.update()\n",
    "\n",
    "        total_reward = 0"
   ]
  }
 ],
 "metadata": {
  "interpreter": {
   "hash": "b3ba2566441a7c06988d0923437866b63cedc61552a5af99d1f4fb67d367b25f"
  },
  "kernelspec": {
   "display_name": "Python 3.8.5 ('base')",
   "language": "python",
   "name": "python3"
  },
  "language_info": {
   "codemirror_mode": {
    "name": "ipython",
    "version": 3
   },
   "file_extension": ".py",
   "mimetype": "text/x-python",
   "name": "python",
   "nbconvert_exporter": "python",
   "pygments_lexer": "ipython3",
   "version": "3.8.5"
  },
  "orig_nbformat": 4
 },
 "nbformat": 4,
 "nbformat_minor": 2
}
