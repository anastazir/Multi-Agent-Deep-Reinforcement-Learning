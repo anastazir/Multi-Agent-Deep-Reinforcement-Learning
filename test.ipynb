{
 "cells": [
  {
   "cell_type": "code",
   "execution_count": 1,
   "metadata": {},
   "outputs": [],
   "source": [
    "import  time\n",
    "import  numpy as np\n",
    "from    config          import *\n",
    "from    agent           import Agent\n",
    "from    enviroment      import Enviroment\n",
    "from    IPython.display import clear_output\n",
    "from    matplotlib      import pyplot as plt"
   ]
  },
  {
   "cell_type": "code",
   "execution_count": 2,
   "metadata": {},
   "outputs": [],
   "source": [
    "grid_size = GRID_SIZE\n",
    "num_col = grid_size\n",
    "\n",
    "possibleActions = POSSIBLE_ACTIONS\n",
    "\n",
    "action_space_dict = {\n",
    "    \"U\" : 0,\n",
    "    \"D\" : 1,\n",
    "    \"L\" : 2,\n",
    "    \"R\" : 3,\n",
    "    \"S\" : 4\n",
    "}\n",
    "n_agents          = N_AGENTS\n",
    "allplayerpos      = PLAYER_POS[: n_agents]\n",
    "enemy_list_pos    = ENEMY_POS[: n_agents]\n",
    "batch_size        = BATCH_SIZE\n",
    "replay_memory_len = REPLAY_MEMORY_LEN\n",
    "type = \"sticky\""
   ]
  },
  {
   "cell_type": "code",
   "execution_count": 3,
   "metadata": {},
   "outputs": [],
   "source": [
    "def decode_state(state_num):\n",
    "    return int(state_num/num_col), state_num%num_col\n",
    "\n",
    "def state_encode(row,col):\n",
    "    return row*num_col + col "
   ]
  },
  {
   "cell_type": "code",
   "execution_count": 4,
   "metadata": {},
   "outputs": [
    {
     "name": "stdout",
     "output_type": "stream",
     "text": [
      "--------------------------------------------\n",
      "-\t-\tP\t-\t-\t\n",
      "\n",
      "-\t-\t-\t-\t-\t\n",
      "\n",
      "-\t-\t-\t-\t-\t\n",
      "\n",
      "-\t-\t-\t-\t-\t\n",
      "\n",
      "-\t-\t-\t-\tX\t\n",
      "\n",
      "--------------------------------------------\n"
     ]
    }
   ],
   "source": [
    "all_agents = []\n",
    "for i in range(0, N_AGENTS):\n",
    "    all_agents.append(Agent(i, allplayerpos[i], type = type, test = True))\n",
    "\n",
    "\n",
    "initial_states = []\n",
    "for agent in all_agents:\n",
    "    initial_states.append(state_encode(agent.x, agent.y))\n",
    "\n",
    "enemy_states = []\n",
    "for enemy_pos in enemy_list_pos:\n",
    "    enemy_states.append(state_encode(enemy_pos[0], enemy_pos[1]))\n",
    "print(initial_states, enemy_states)\n",
    "env = Enviroment(initial_states = initial_states, enemy_states = enemy_states, type = type)\n",
    "env.render()"
   ]
  },
  {
   "cell_type": "code",
   "execution_count": 5,
   "metadata": {},
   "outputs": [],
   "source": [
    "def test():\n",
    "    for agent in all_agents:\n",
    "        agent.load_model()\n",
    "\n",
    "    total_step = 0\n",
    "    rewards_list = []\n",
    "    timesteps_list = []\n",
    "    total_steps = 1\n",
    "\n",
    "    for episode in range(1, EPISODES):\n",
    "        print(\"Episode number: \", episode)\n",
    "\n",
    "        reward_all = 0\n",
    "        time_step = 1\n",
    "        for agent in all_agents:\n",
    "            agent.terminal = False\n",
    "        \n",
    "        [states, enemy_states] = env.reset()\n",
    "        print(\"player states: \", states)\n",
    "\n",
    "        for agent in all_agents:\n",
    "            agent.set_pos(allplayerpos[0])\n",
    "\n",
    "        done = [False for _ in range(N_AGENTS)]\n",
    "\n",
    "        state_arr = np.zeros(STATE_SIZE)\n",
    "        state_arr[states] = 1\n",
    "        state_arr[enemy_states] = 2\n",
    "        old_states = np.reshape(state_arr, [1, STATE_SIZE])\n",
    "        # print(\"old states are\", old_states)\n",
    "\n",
    "        while not all(done):\n",
    "\n",
    "            # env.render(clear=True)\n",
    "            actions = []\n",
    "\n",
    "            for agent in all_agents:\n",
    "                actions.append(agent.act(old_states, possibleActions))\n",
    "\n",
    "            next_states, rewards, done = env.step(actions)\n",
    "\n",
    "            agent.set_pos(decode_state(next_states[agent.index]))\n",
    "\n",
    "            print(\"actions\", actions)\n",
    "            nstate_arr = np.zeros(STATE_SIZE)\n",
    "            nstate_arr[next_states] = 1\n",
    "            nstate_arr[enemy_states] = 2\n",
    "            new_states = np.reshape(nstate_arr, [1, STATE_SIZE])\n",
    "\n",
    "            for agent in all_agents:\n",
    "                if done[agent.index] == True:\n",
    "                    agent.terminal = True\n",
    "                    print(\"agent reached landmark\")\n",
    "\n",
    "            if time_step >= TIME_STEPS:\n",
    "                print(\"max steps reached\")\n",
    "                break\n",
    "\n",
    "            old_states = new_states\n",
    "\n",
    "            total_step += 1\n",
    "            time_step += 1\n",
    "            total_steps+1\n",
    "            reward_all += sum(rewards)\n",
    "        \n",
    "        if all(done):\n",
    "            print(\"------------------------all agents reached landmarks-------------------\")\n",
    "        print(\"total rewards\", reward_all)\n",
    "        rewards_list.append(reward_all)\n",
    "        timesteps_list.append(time_step)\n"
   ]
  },
  {
   "cell_type": "code",
   "execution_count": null,
   "metadata": {},
   "outputs": [],
   "source": [
    "test()\n",
    "env.reset()"
   ]
  },
  {
   "cell_type": "code",
   "execution_count": null,
   "metadata": {},
   "outputs": [],
   "source": []
  },
  {
   "cell_type": "code",
   "execution_count": null,
   "metadata": {},
   "outputs": [],
   "source": []
  }
 ],
 "metadata": {
  "interpreter": {
   "hash": "b3ba2566441a7c06988d0923437866b63cedc61552a5af99d1f4fb67d367b25f"
  },
  "kernelspec": {
   "display_name": "Python 3.8.5 ('base')",
   "language": "python",
   "name": "python3"
  },
  "language_info": {
   "codemirror_mode": {
    "name": "ipython",
    "version": 3
   },
   "file_extension": ".py",
   "mimetype": "text/x-python",
   "name": "python",
   "nbconvert_exporter": "python",
   "pygments_lexer": "ipython3",
   "version": "3.8.5"
  },
  "orig_nbformat": 4
 },
 "nbformat": 4,
 "nbformat_minor": 2
}
