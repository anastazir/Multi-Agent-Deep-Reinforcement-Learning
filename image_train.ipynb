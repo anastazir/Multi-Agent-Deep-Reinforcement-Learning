{
 "cells": [
  {
   "cell_type": "code",
   "execution_count": 1,
   "metadata": {},
   "outputs": [],
   "source": [
    "import  time\n",
    "import  numpy as np\n",
    "from    config          import *\n",
    "from    agent           import Agent\n",
    "from    enviroment      import Enviroment\n",
    "from    IPython.display import clear_output\n",
    "from    matplotlib      import pyplot as plt"
   ]
  },
  {
   "cell_type": "code",
   "execution_count": 2,
   "metadata": {},
   "outputs": [],
   "source": [
    "grid_size = GRID_SIZE\n",
    "num_col = grid_size\n",
    "\n",
    "possibleActions = POSSIBLE_ACTIONS\n",
    "\n",
    "action_space_dict = {\n",
    "    \"U\" : 0,\n",
    "    \"D\" : 1,\n",
    "    \"L\" : 2,\n",
    "    \"R\" : 3,\n",
    "    \"S\" : 4\n",
    "}\n",
    "n_agents          = N_AGENTS\n",
    "allplayerpos      = PLAYER_POS[: n_agents]\n",
    "enemy_list_pos    = ENEMY_POS[: n_agents]\n",
    "batch_size        = BATCH_SIZE\n",
    "replay_memory_len = REPLAY_MEMORY_LEN\n",
    "type = \"sticky\""
   ]
  },
  {
   "cell_type": "code",
   "execution_count": 3,
   "metadata": {},
   "outputs": [],
   "source": [
    "def decode_state(state_num):\n",
    "    return int(state_num/num_col), state_num%num_col\n",
    "\n",
    "def state_encode(row,col):\n",
    "    return row*num_col + col "
   ]
  },
  {
   "cell_type": "code",
   "execution_count": 4,
   "metadata": {},
   "outputs": [
    {
     "name": "stdout",
     "output_type": "stream",
     "text": [
      "[0] [24]\n",
      "--------------------------------------------\n",
      "P\t-\t-\t-\t-\t\n",
      "\n",
      "-\t-\t-\t-\t-\t\n",
      "\n",
      "-\t-\t-\t-\t-\t\n",
      "\n",
      "-\t-\t-\t-\t-\t\n",
      "\n",
      "-\t-\t-\t-\tX\t\n",
      "\n",
      "--------------------------------------------\n"
     ]
    }
   ],
   "source": [
    "all_agents = []\n",
    "for i in range(0, N_AGENTS):\n",
    "    all_agents.append(Agent(i, allplayerpos[i], type = type))\n",
    "\n",
    "\n",
    "initial_states = []\n",
    "for agent in all_agents:\n",
    "    initial_states.append(state_encode(agent.x, agent.y))\n",
    "\n",
    "enemy_states = []\n",
    "for enemy_pos in enemy_list_pos:\n",
    "    enemy_states.append(state_encode(enemy_pos[0], enemy_pos[1]))\n",
    "print(initial_states, enemy_states)\n",
    "env = Enviroment(initial_states = initial_states, enemy_states = enemy_states, type = type)\n",
    "env.render()"
   ]
  },
  {
   "cell_type": "code",
   "execution_count": 5,
   "metadata": {},
   "outputs": [
    {
     "name": "stdout",
     "output_type": "stream",
     "text": [
      "model summary\n",
      "Model: \"sequential\"\n",
      "_________________________________________________________________\n",
      "Layer (type)                 Output Shape              Param #   \n",
      "=================================================================\n",
      "conv2d (Conv2D)              (None, 49, 49, 64)        320       \n",
      "_________________________________________________________________\n",
      "conv2d_1 (Conv2D)            (None, 48, 48, 128)       32896     \n",
      "_________________________________________________________________\n",
      "flatten (Flatten)            (None, 294912)            0         \n",
      "_________________________________________________________________\n",
      "dense (Dense)                (None, 128)               37748864  \n",
      "_________________________________________________________________\n",
      "dense_1 (Dense)              (None, 32)                4128      \n",
      "_________________________________________________________________\n",
      "dense_2 (Dense)              (None, 4)                 132       \n",
      "=================================================================\n",
      "Total params: 37,786,340\n",
      "Trainable params: 37,786,340\n",
      "Non-trainable params: 0\n",
      "_________________________________________________________________\n",
      "--------------\n"
     ]
    }
   ],
   "source": [
    "all_agents[0].print_summary()"
   ]
  },
  {
   "cell_type": "code",
   "execution_count": 6,
   "metadata": {},
   "outputs": [
    {
     "data": {
      "text/plain": [
       "(1, 50, 50, 1)"
      ]
     },
     "execution_count": 6,
     "metadata": {},
     "output_type": "execute_result"
    }
   ],
   "source": [
    "# plt.imshow(env.map_image)[0]\n",
    "env.map_image.shape"
   ]
  },
  {
   "cell_type": "code",
   "execution_count": 7,
   "metadata": {},
   "outputs": [],
   "source": [
    "[new_map, _, _] = env.reset()"
   ]
  },
  {
   "cell_type": "code",
   "execution_count": 8,
   "metadata": {},
   "outputs": [
    {
     "data": {
      "text/plain": [
       "[24]"
      ]
     },
     "execution_count": 8,
     "metadata": {},
     "output_type": "execute_result"
    }
   ],
   "source": [
    "env.enemy_states"
   ]
  },
  {
   "cell_type": "code",
   "execution_count": 23,
   "metadata": {},
   "outputs": [
    {
     "data": {
      "text/plain": [
       "<matplotlib.image.AxesImage at 0x19a665c3400>"
      ]
     },
     "execution_count": 23,
     "metadata": {},
     "output_type": "execute_result"
    },
    {
     "data": {
      "image/png": "[encoded data removed]",
      "text/plain": [
       "<Figure size 432x288 with 1 Axes>"
      ]
     },
     "metadata": {
      "needs_background": "light"
     },
     "output_type": "display_data"
    }
   ],
   "source": [
    "[old_map, _, _] = env.reset()\n",
    "plt.imshow(old_map[0])"
   ]
  },
  {
   "cell_type": "code",
   "execution_count": 24,
   "metadata": {},
   "outputs": [
    {
     "name": "stdout",
     "output_type": "stream",
     "text": [
      "[-1] [False]\n"
     ]
    },
    {
     "data": {
      "image/png": "[encoded data removed]",
      "text/plain": [
       "<Figure size 432x288 with 1 Axes>"
      ]
     },
     "metadata": {
      "needs_background": "light"
     },
     "output_type": "display_data"
    }
   ],
   "source": [
    "[map_image, new_states, rewards, terminal]=env.step(\"D\")\n",
    "print(rewards, terminal)\n",
    "plt.imshow(map_image[0])\n",
    "plt.show()"
   ]
  },
  {
   "cell_type": "code",
   "execution_count": null,
   "metadata": {},
   "outputs": [],
   "source": []
  },
  {
   "cell_type": "code",
   "execution_count": null,
   "metadata": {},
   "outputs": [],
   "source": []
  }
 ],
 "metadata": {
  "interpreter": {
   "hash": "b3ba2566441a7c06988d0923437866b63cedc61552a5af99d1f4fb67d367b25f"
  },
  "kernelspec": {
   "display_name": "Python 3.8.5 ('base')",
   "language": "python",
   "name": "python3"
  },
  "language_info": {
   "codemirror_mode": {
    "name": "ipython",
    "version": 3
   },
   "file_extension": ".py",
   "mimetype": "text/x-python",
   "name": "python",
   "nbconvert_exporter": "python",
   "pygments_lexer": "ipython3",
   "version": "3.8.5"
  },
  "orig_nbformat": 4
 },
 "nbformat": 4,
 "nbformat_minor": 2
}
