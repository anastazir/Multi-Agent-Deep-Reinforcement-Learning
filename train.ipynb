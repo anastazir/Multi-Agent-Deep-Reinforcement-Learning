{
 "cells": [
  {
   "cell_type": "code",
   "execution_count": 1,
   "metadata": {},
   "outputs": [],
   "source": [
    "import  time\n",
    "import  numpy as np\n",
    "from    config          import *\n",
    "from    agent           import Agent\n",
    "from    enviroment      import Enviroment\n",
    "from    IPython.display import clear_output\n",
    "from    matplotlib      import pyplot as plt"
   ]
  },
  {
   "cell_type": "code",
   "execution_count": 2,
   "metadata": {},
   "outputs": [],
   "source": [
    "grid_size = GRID_SIZE\n",
    "num_col = grid_size\n",
    "\n",
    "possibleActions = ['U', 'D', 'L', 'R', 'S']\n",
    "\n",
    "action_space_dict = {\n",
    "    \"U\" : 1,\n",
    "    \"D\" : 2,\n",
    "    \"L\" : 3,\n",
    "    \"R\" : 4,\n",
    "    \"S\" : 0\n",
    "}\n",
    "\n",
    "n_agents          = N_AGENTS\n",
    "allplayerpos      = PLAYER_POS[: n_agents]\n",
    "enemy_list_pos    = ENEMY_POS[: n_agents]\n",
    "batch_size        = BATCH_SIZE\n",
    "replay_memory_len = REPLAY_MEMORY_LEN"
   ]
  },
  {
   "cell_type": "code",
   "execution_count": 3,
   "metadata": {},
   "outputs": [],
   "source": [
    "def decode_state(state_num):\n",
    "    return int(state_num/num_col), state_num%num_col\n",
    "\n",
    "def state_encode(row,col):\n",
    "    return row*num_col + col "
   ]
  },
  {
   "cell_type": "code",
   "execution_count": 4,
   "metadata": {},
   "outputs": [],
   "source": [
    "def run():\n",
    "    total_step = 0\n",
    "    rewards_list = []\n",
    "    timesteps_list = []\n",
    "\n",
    "    for episode in range(EPISODES):\n",
    "        print(\"Episode number: \", episode)\n",
    "\n",
    "        reward_all = 0\n",
    "        time_step = 0\n",
    "        i = 0\n",
    "\n",
    "        for agent in all_agents:\n",
    "            agent.terminal = False\n",
    "        \n",
    "        states = env.reset()\n",
    "        states = np.concatenate((states,enemy_states)).ravel()\n",
    "\n",
    "        for agent in all_agents:\n",
    "            agent.set_pos(allplayerpos[i])\n",
    "            i = i + 1\n",
    "\n",
    "        done = [False for _ in range(n_agents)]\n",
    "\n",
    "        while not any(done):\n",
    "\n",
    "            # env.render(clear=True)\n",
    "            actions = []\n",
    "\n",
    "            for agent in all_agents:\n",
    "                actions.append(agent.act(states, possibleActions))\n",
    "\n",
    "            next_states, rewards, done = env.step(actions)\n",
    "            for agent in all_agents:\n",
    "\n",
    "                next_states = np.array(next_states)\n",
    "                next_states = next_states.ravel()\n",
    "\n",
    "                agent.set_pos(decode_state(next_states[agent.index]))\n",
    "                agent.store(np.concatenate((states,enemy_states)).ravel(), action_space_dict[actions[agent.index]], \\\n",
    "                rewards[agent.index], np.concatenate((next_states,enemy_states)).ravel(), done[agent.index])\n",
    "\n",
    "                if done[agent.index] == True:\n",
    "                    agent.terminal = True\n",
    "                    print(\"agent reached landmark\")\n",
    "\n",
    "            print(\"actions\", actions)\n",
    "\n",
    "            print(\"agent epsilon \", all_agents[0].epsilon, \"agent memory len\",\\\n",
    "                len(all_agents[0].expirience_replay), \"steps \", time_step,\\\n",
    "                \"reward\", rewards[0], \"next state \", next_states[0], \"agent position \", all_agents[0].return_coordinates())\n",
    "\n",
    "            if time_step >= TIME_STEPS:\n",
    "                print(\"max steps reached\")\n",
    "                break\n",
    "\n",
    "\n",
    "            total_step += 1\n",
    "            time_step += 1\n",
    "            states = next_states\n",
    "            reward_all += sum(rewards)\n",
    "\n",
    "            for agent in all_agents:\n",
    "                if agent.terminal:\n",
    "                    print(\"updating target model\")\n",
    "                    agent.alighn_target_model()\n",
    "                if time_step % REPLAY_STEPS == 0:\n",
    "                    agent.retrain()\n",
    "\n",
    "        print(\"total rewards\", reward_all)\n",
    "        for agent in all_agents:\n",
    "            agent.decay_epsilon(episode)\n",
    "\n",
    "        rewards_list.append(reward_all)\n",
    "        timesteps_list.append(time_step)\n"
   ]
  },
  {
   "cell_type": "code",
   "execution_count": 5,
   "metadata": {},
   "outputs": [
    {
     "name": "stdout",
     "output_type": "stream",
     "text": [
      "--------------------------------------------\n",
      "-\t-\tP\t-\t-\t\n",
      "\n",
      "-\t-\t-\t-\t-\t\n",
      "\n",
      "-\t-\t-\t-\t-\t\n",
      "\n",
      "-\t-\t-\t-\t-\t\n",
      "\n",
      "-\t-\t-\t-\tX\t\n",
      "\n",
      "--------------------------------------------\n"
     ]
    }
   ],
   "source": [
    "all_agents= []\n",
    "\n",
    "for index in range(n_agents):\n",
    "\n",
    "    all_agents.append(Agent(index, allplayerpos[index]))\n",
    "\n",
    "\n",
    "initial_states = []\n",
    "for agent in all_agents:\n",
    "    initial_states.append(state_encode(agent.x, agent.y))\n",
    "\n",
    "enemy_states = []\n",
    "for enemy_pos in enemy_list_pos:\n",
    "    enemy_states.append(state_encode(enemy_pos[0], enemy_pos[1]))\n",
    "\n",
    "env = Enviroment(initial_states = initial_states, enemy_states = enemy_states)\n",
    "env.render()"
   ]
  },
  {
   "cell_type": "code",
   "execution_count": null,
   "metadata": {},
   "outputs": [],
   "source": [
    "run()"
   ]
  },
  {
   "cell_type": "code",
   "execution_count": 7,
   "metadata": {},
   "outputs": [],
   "source": [
    "# for agent in all_agents:\n",
    "#     agent.save_model()"
   ]
  }
 ],
 "metadata": {
  "interpreter": {
   "hash": "b3ba2566441a7c06988d0923437866b63cedc61552a5af99d1f4fb67d367b25f"
  },
  "kernelspec": {
   "display_name": "Python 3.8.5 ('base')",
   "language": "python",
   "name": "python3"
  },
  "language_info": {
   "codemirror_mode": {
    "name": "ipython",
    "version": 3
   },
   "file_extension": ".py",
   "mimetype": "text/x-python",
   "name": "python",
   "nbconvert_exporter": "python",
   "pygments_lexer": "ipython3",
   "version": "3.8.5"
  },
  "orig_nbformat": 4
 },
 "nbformat": 4,
 "nbformat_minor": 2
}
